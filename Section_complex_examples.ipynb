{
 "cells": [
  {
   "cell_type": "code",
   "execution_count": 1,
   "metadata": {},
   "outputs": [],
   "source": [
    "\"\"\"\n",
    "This notebook runs the examples of Section Complexes of Height Functions  \n",
    "\"\"\"\n",
    "\n",
    "import sSet\n",
    "import numpy as np\n"
   ]
  },
  {
   "cell_type": "code",
   "execution_count": 2,
   "metadata": {},
   "outputs": [],
   "source": [
    "def print_reeb(X, num_lvl, dim_homology):\n",
    "    \"\"\"\n",
    "    Computes and prints boundary matrices of dim_homology-th Reeb complexes of a given simplicial set with height\n",
    "    \n",
    "    Parameters\n",
    "    ----------\n",
    "    X : SimplicialSetWithHeight\n",
    "        Input simplicial set\n",
    "    num_lvl : int\n",
    "        number of height levels to compute\n",
    "    dim_homology : tuple\n",
    "        tuple of dimensions to compute\n",
    "    \"\"\"\n",
    "    for dim in dim_homology:\n",
    "        r = sSet.reeb_complex(X,dim,num_lvl)\n",
    "        print('Boundary matrices of ' + str(dim) + '-th Reeb complex')\n",
    "        for lvl in range(num_lvl):\n",
    "            print('delta_' + str(lvl+1))\n",
    "            boundmat = np.zeros_like(r[lvl][0])\n",
    "            for k, horizontal_face_maps in enumerate(r[lvl]):\n",
    "                boundmat += np.multiply(np.power(-1, k), horizontal_face_maps)\n",
    "            print(boundmat)\n",
    "            print('')"
   ]
  },
  {
   "cell_type": "code",
   "execution_count": 3,
   "metadata": {},
   "outputs": [
    {
     "name": "stdout",
     "output_type": "stream",
     "text": [
      "Example 3.3: Simplicial model for the 2-sphere, gluing two 2-simplices\n",
      "Boundary matrices of 0-th Reeb complex\n",
      "delta_1\n",
      "[[-1. -1.  0.]\n",
      " [ 1.  0. -1.]\n",
      " [ 0.  1.  1.]]\n",
      "\n",
      "delta_2\n",
      "[[ 1.  1.]\n",
      " [-1. -1.]\n",
      " [ 1.  1.]]\n",
      "\n"
     ]
    }
   ],
   "source": [
    "print(\"Example 3.3: Simplicial model for the 2-sphere, gluing two 2-simplices\")\n",
    "# Define 0-, 1- and 2-simplices with given heights and create simplicial set with height\n",
    "v_0 = sSet.SimplexWithHeight(None, [0])\n",
    "v_1 = sSet.SimplexWithHeight(None, [1])\n",
    "v_2 = sSet.SimplexWithHeight(None, [2])\n",
    "e_01 = sSet.SimplexWithHeight([v_1, v_0], [0, 1])\n",
    "e_02 = sSet.SimplexWithHeight([v_2, v_0], [0, 2])\n",
    "e_12 = sSet.SimplexWithHeight([v_2, v_1], [1, 2])\n",
    "t_012_0 = sSet.SimplexWithHeight([e_12, e_02, e_01], [0, 1, 2])\n",
    "t_012_1 = sSet.SimplexWithHeight([e_12, e_02, e_01], [0, 1, 2])\n",
    "\n",
    "X = sSet.SimplicialSetWithHeight([v_0, v_1, v_2], \n",
    "                                 [e_01,e_02, e_12],\n",
    "                                 [t_012_0, t_012_1])\n",
    "# Compute boundary matrices of 0th reeb complex, with simplices across 3 heights\n",
    "print_reeb(X, 2, (0,))"
   ]
  },
  {
   "cell_type": "code",
   "execution_count": 4,
   "metadata": {},
   "outputs": [
    {
     "name": "stdout",
     "output_type": "stream",
     "text": [
      "Example 3.5: Simplicial model for the 2-sphere, gluing two subdivided 2-simplices\n",
      "Boundary matrices of 0-th Reeb complex\n",
      "delta_1\n",
      "[[-1.  0.]\n",
      " [ 1. -1.]\n",
      " [ 0.  1.]]\n",
      "\n",
      "Boundary matrices of 1-th Reeb complex\n",
      "delta_1\n",
      "[[ 1. -1.]]\n",
      "\n"
     ]
    }
   ],
   "source": [
    "print(\"Example 3.5: Simplicial model for the 2-sphere, gluing two subdivided 2-simplices\")\n",
    "# Define 0-, 1- and 2-simplices with given heights and create simplicial set with height\n",
    "v_0 = sSet.SimplexWithHeight(None, [0])\n",
    "v_1_0 = sSet.SimplexWithHeight(None, [1])\n",
    "v_1_1 = sSet.SimplexWithHeight(None, [1])\n",
    "v_2 = sSet.SimplexWithHeight(None, [2])\n",
    "e_01_0 = sSet.SimplexWithHeight([v_1_0, v_0], [0, 1])\n",
    "e_01_1 = sSet.SimplexWithHeight([v_1_1, v_0], [0, 1])\n",
    "e_11_0 = sSet.SimplexWithHeight([v_1_0, v_1_1], [1, 1])\n",
    "e_11_1 = sSet.SimplexWithHeight([v_1_1, v_1_0], [1, 1])\n",
    "e_12_0 = sSet.SimplexWithHeight([v_2, v_1_0], [1, 2])\n",
    "e_12_1 = sSet.SimplexWithHeight([v_2, v_1_1], [1, 2])\n",
    "t_011_0 = sSet.SimplexWithHeight([e_11_0, e_01_0, e_01_1], [0, 1, 1])\n",
    "t_011_1 = sSet.SimplexWithHeight([e_11_1, e_01_1, e_01_0], [0, 1, 1])\n",
    "t_112_0 = sSet.SimplexWithHeight([e_12_1, e_12_0, e_11_1], [1, 1, 2])\n",
    "t_112_1 = sSet.SimplexWithHeight([e_12_0, e_12_1, e_11_0], [1, 1, 2])\n",
    "\n",
    "X = sSet.SimplicialSetWithHeight([v_0, v_1_0, v_1_1, v_2], \n",
    "                                 [e_01_0, e_01_1, e_11_0, \n",
    "                                  e_11_1, e_12_0, e_12_1],\n",
    "                                 [t_011_0, t_011_1, t_112_0, t_112_1])\n",
    "# Compute boundary matrices of 0th and 1st reeb complex, with simplices across 2 heights\n",
    "print_reeb(X, 1, (0,1))"
   ]
  },
  {
   "cell_type": "code",
   "execution_count": 5,
   "metadata": {
    "scrolled": false
   },
   "outputs": [
    {
     "name": "stdout",
     "output_type": "stream",
     "text": [
      "Example 3.12: Simplicial model for the cylinder\n",
      "Boundary matrices of 0-th Reeb complex\n",
      "delta_1\n",
      "[[-1. -1.  0.]\n",
      " [ 1.  0. -1.]\n",
      " [ 0.  1.  1.]]\n",
      "\n",
      "delta_2\n",
      "[[ 1.  1.]\n",
      " [-1. -1.]\n",
      " [ 1.  1.]]\n",
      "\n"
     ]
    }
   ],
   "source": [
    "print(\"Example 3.12: Simplicial model for the cylinder\")\n",
    "# Define 0-, 1- and 2-simplices with given heights and create simplicial set with height\n",
    "v_00 = sSet.SimplexWithHeight(None, [0])\n",
    "v_01 = sSet.SimplexWithHeight(None, [0])\n",
    "v_02 = sSet.SimplexWithHeight(None, [0])\n",
    "v_10 = sSet.SimplexWithHeight(None, [1])\n",
    "v_11 = sSet.SimplexWithHeight(None, [1])\n",
    "v_20 = sSet.SimplexWithHeight(None, [2])\n",
    "v_21 = sSet.SimplexWithHeight(None, [2])\n",
    "v_22 = sSet.SimplexWithHeight(None, [2])\n",
    "e_00_01 = sSet.SimplexWithHeight([v_01, v_00], [0,0])\n",
    "e_00_12 = sSet.SimplexWithHeight([v_02, v_01], [0,0])\n",
    "e_00_20 = sSet.SimplexWithHeight([v_00, v_02], [0,0])\n",
    "e_01_00 = sSet.SimplexWithHeight([v_10, v_00], [0,1])\n",
    "e_01_11 = sSet.SimplexWithHeight([v_11, v_01], [0,1])\n",
    "e_01_10 = sSet.SimplexWithHeight([v_10, v_01], [0,1])\n",
    "e_01_21 = sSet.SimplexWithHeight([v_11, v_02], [0,1])\n",
    "e_01_20 = sSet.SimplexWithHeight([v_10, v_02], [0,1])\n",
    "e_02_21 = sSet.SimplexWithHeight([v_21, v_02], [0,2])\n",
    "e_02_22 = sSet.SimplexWithHeight([v_22, v_02], [0,2])\n",
    "e_02_20 = sSet.SimplexWithHeight([v_20, v_02], [0,2])\n",
    "e_11_01 = sSet.SimplexWithHeight([v_11, v_10], [1,1])\n",
    "e_12_00 = sSet.SimplexWithHeight([v_20, v_10], [1,2])\n",
    "e_12_11 = sSet.SimplexWithHeight([v_21, v_11], [1,2])\n",
    "e_12_10 = sSet.SimplexWithHeight([v_20, v_11], [1,2])\n",
    "e_22_01 = sSet.SimplexWithHeight([v_21, v_20], [2,2])\n",
    "e_22_12 = sSet.SimplexWithHeight([v_22, v_21], [2,2])\n",
    "e_22_20 = sSet.SimplexWithHeight([v_20, v_22], [2,2])\n",
    "t_001_010 = sSet.SimplexWithHeight([e_01_10, e_01_00, e_00_01], [0,0,1])\n",
    "t_001_121 = sSet.SimplexWithHeight([e_01_21, e_01_11, e_00_12], [0,0,1])\n",
    "t_001_200 = sSet.SimplexWithHeight([e_01_00, e_01_20, e_00_20], [0,0,1])\n",
    "t_011_101 = sSet.SimplexWithHeight([e_11_01, e_01_11, e_01_10], [0,1,1])\n",
    "t_012_211 = sSet.SimplexWithHeight([e_12_11, e_02_21, e_01_21], [0,1,2])\n",
    "t_012_200 = sSet.SimplexWithHeight([e_12_00, e_02_20, e_01_20], [0,1,2])\n",
    "t_022_212 = sSet.SimplexWithHeight([e_22_12, e_02_22, e_02_21], [0,2,2])\n",
    "t_022_220 = sSet.SimplexWithHeight([e_22_20, e_02_20, e_02_22], [0,2,2])\n",
    "t_112_010 = sSet.SimplexWithHeight([e_12_10, e_12_00, e_11_01], [1,1,2])\n",
    "t_122_101 = sSet.SimplexWithHeight([e_22_01, e_12_11, e_12_10], [1,2,2])\n",
    "\n",
    "X = sSet.SimplicialSetWithHeight([v_00, v_01, v_02,v_10, v_11, v_20, v_21, v_22],                                 \n",
    "                                 [e_00_01, e_00_12, e_00_20, e_01_00, e_01_11, e_01_10, e_01_21, e_01_20, e_02_21, \n",
    "                                  e_02_22, e_02_20, e_11_01, e_12_00,e_12_11,e_12_10, e_22_01, e_22_12, e_22_20],\n",
    "                                 [t_001_010, t_001_121, t_001_200, t_011_101, t_012_211, \n",
    "                                  t_012_200, t_022_212, t_022_220, t_112_010, t_122_101])\n",
    "# Compute boundary matrices of 0th reeb complex, with simplices across 3 heights\n",
    "print_reeb(X, 2, (0,))"
   ]
  },
  {
   "cell_type": "code",
   "execution_count": 6,
   "metadata": {},
   "outputs": [
    {
     "name": "stdout",
     "output_type": "stream",
     "text": [
      "Example 4.5: Pinched cylinder\n",
      "Boundary matrices of 0-th Reeb complex\n",
      "delta_1\n",
      "[[-1.]\n",
      " [ 1.]]\n",
      "\n",
      "Boundary matrices of 1-th Reeb complex\n",
      "delta_1\n",
      "[[-1.]\n",
      " [-1.]\n",
      " [ 1.]\n",
      " [ 1.]]\n",
      "\n"
     ]
    }
   ],
   "source": [
    "print(\"Example 4.5: Pinched cylinder\")\n",
    "# Define 0-, 1- and 2-simplices with given heights and create simplicial set with height\n",
    "v_0 = sSet.SimplexWithHeight(None, [0])\n",
    "u_1 = sSet.SimplexWithHeight(None, [1])\n",
    "e_00_0 = sSet.SimplexWithHeight([v_0, v_0], [0,0])\n",
    "e_00_1 = sSet.SimplexWithHeight([v_0, v_0], [0,0])\n",
    "e_01_0 = sSet.SimplexWithHeight([u_1, v_0], [0,1])\n",
    "e_01_1 = sSet.SimplexWithHeight([u_1, v_0], [0,1])\n",
    "e_01_2 = sSet.SimplexWithHeight([u_1, v_0], [0,1])\n",
    "e_01_3 = sSet.SimplexWithHeight([u_1, v_0], [0,1])\n",
    "e_11_0 = sSet.SimplexWithHeight([u_1, u_1], [1,1])\n",
    "e_11_1 = sSet.SimplexWithHeight([u_1, u_1], [1,1])\n",
    "t_001_0 = sSet.SimplexWithHeight([e_01_3, e_01_2, e_00_0], [0,0,1])\n",
    "t_001_1 = sSet.SimplexWithHeight([e_01_0, e_01_1, e_00_1], [0,0,1])\n",
    "t_011_0 = sSet.SimplexWithHeight([e_11_1, e_01_2, e_01_0], [0,1,1])\n",
    "t_011_1 = sSet.SimplexWithHeight([e_11_0, e_01_1, e_01_3], [0,1,1])\n",
    "\n",
    "X = sSet.SimplicialSetWithHeight([v_0,u_1],                                 \n",
    "                                 [e_00_0, e_00_1, e_01_0, e_01_1, e_01_2, e_01_3, e_11_0, e_11_1],\n",
    "                                 [t_001_0, t_001_1, t_011_0, t_011_1])\n",
    "# Compute boundary matrices of 0th and 1st reeb complexes, with simplices across 2 heights\n",
    "print_reeb(X, 1, (0,1))"
   ]
  }
 ],
 "metadata": {
  "kernelspec": {
   "display_name": "Python 3",
   "language": "python",
   "name": "python3"
  },
  "language_info": {
   "codemirror_mode": {
    "name": "ipython",
    "version": 3
   },
   "file_extension": ".py",
   "mimetype": "text/x-python",
   "name": "python",
   "nbconvert_exporter": "python",
   "pygments_lexer": "ipython3",
   "version": "3.7.6"
  }
 },
 "nbformat": 4,
 "nbformat_minor": 4
}
